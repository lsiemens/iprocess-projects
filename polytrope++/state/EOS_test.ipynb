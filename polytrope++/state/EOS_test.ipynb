{
 "cells": [
  {
   "cell_type": "markdown",
   "id": "3c1295a2-f290-40e2-85c2-54a100099411",
   "metadata": {},
   "source": [
    "# Test State #"
   ]
  },
  {
   "cell_type": "code",
   "execution_count": null,
   "id": "361847c1-1687-4afe-9df3-43be2bdd8e53",
   "metadata": {},
   "outputs": [],
   "source": [
    "%pylab ipympl\n",
    "ifig= 0\n",
    "\n",
    "import sys\n",
    "sys.path.append('../')\n",
    "\n",
    "import state"
   ]
  },
  {
   "cell_type": "code",
   "execution_count": null,
   "id": "ae328124-c545-4374-8f31-5b9d2fbf8503",
   "metadata": {},
   "outputs": [],
   "source": [
    "P, T = 10**numpy.linspace(-2, 24, 20), 10**numpy.linspace(3.2, 8.3, 100)\n",
    "eos = state.table.opal_data(\"./tables/EOS5_02z6x\")\n",
    "\n",
    "ifig += 1; pyplot.close(ifig); pyplot.figure(ifig)\n",
    "first = True\n",
    "for p in P:\n",
    "    Rho, gamma = eos(p + 0*T, T, 0.7, 0.02)\n",
    "    Rho_ideal, gamma_ideal = state.table.ideal_eos(p + 0*T, T, 0.7, 0.02)\n",
    "    if first:\n",
    "        pyplot.loglog(T, Rho_ideal, \"r:\", label=\"ideal gas\")\n",
    "        pyplot.plot(T, Rho, \"k-\", label=\"data\")\n",
    "        first=False\n",
    "    else:\n",
    "        pyplot.loglog(T, Rho_ideal, \"r:\")\n",
    "        pyplot.plot(T, Rho, \"k-\")\n",
    "pyplot.xlabel(\"logT [k]\")\n",
    "pyplot.ylabel(\"logRho [g/cm^3]\")\n",
    "pyplot.title(\"Ideal gass law\")\n",
    "pyplot.legend()\n",
    "pyplot.show(ifig)"
   ]
  },
  {
   "cell_type": "code",
   "execution_count": null,
   "id": "21d7520d-b665-4b9e-abf6-e5ae93b89550",
   "metadata": {},
   "outputs": [],
   "source": [
    "state.table.mu"
   ]
  },
  {
   "cell_type": "code",
   "execution_count": null,
   "id": "9ce23ace-12b8-444b-afd4-c8d82e3b4703",
   "metadata": {},
   "outputs": [],
   "source": []
  }
 ],
 "metadata": {
  "kernelspec": {
   "display_name": "Python 3 (ipykernel)",
   "language": "python",
   "name": "python3"
  },
  "language_info": {
   "codemirror_mode": {
    "name": "ipython",
    "version": 3
   },
   "file_extension": ".py",
   "mimetype": "text/x-python",
   "name": "python",
   "nbconvert_exporter": "python",
   "pygments_lexer": "ipython3",
   "version": "3.10.4"
  }
 },
 "nbformat": 4,
 "nbformat_minor": 5
}
