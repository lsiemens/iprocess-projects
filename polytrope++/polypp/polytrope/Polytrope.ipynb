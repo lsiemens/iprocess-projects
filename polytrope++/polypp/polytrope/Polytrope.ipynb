{
 "cells": [
  {
   "cell_type": "markdown",
   "id": "69ca7178-2abe-4548-a4bf-43dbfee6c32c",
   "metadata": {},
   "source": [
    "# Polytrope #\n",
    "The four equations of stellar ($P$, $M$, $L$, $T$) structure can be reduced down to the two equations for $P$ and $M$ by enforcing a relationship between the density and known varaibles $r$, $P$ and $M$. Using the equation $P = K\\rho^{\\frac{n + 1}{n}}$, where $K$ is a constant and $n$ is the polytropic index, leads to the polytrope solution described by the Lane-Emden equation.\n",
    "\n",
    "## Lane-Emden Equation ##\n",
    "Solve the stellar structur equations,\n",
    "$$\\frac{dP(r)}{dr} = -\\frac{GM(r)\\rho(r)}{r^2}$$\n",
    "$$\\frac{dM(r)}{dr} = 4\\pi r^2 \\rho(r)$$\n",
    "given the equation $P = K\\rho^{\\frac{n + 1}{n}}$ where $K$ is a constant and $n$ is the polytropic index. In this case the equations do not have an explicit tempurature dependence and can be conbined to the form,\n",
    "\n",
    "$$\\frac{1}{r^2}\\frac{d}{dr}\\left( \\frac{r^2}{\\rho(r)}\\frac{dP(r)}{dr} \\right) = -4\\pi G\\rho(r)$$\n",
    "\n",
    "Written in dimensionless form with $\\rho(r) = \\rho_c \\theta^n(r)$, $P(r) = P_c \\theta^{n + 1}(r)$, $\\alpha^2 = \\frac{(n + 1)P_c}{4\\pi G\\rho_c^2}$, $\\xi = \\frac{r}{\\alpha}$, where $P_c = K\\rho_c^{\\frac{n+1}{n}}$, then the result is the dimensionless Lane-Emden equation\n",
    "\n",
    "$$\\frac{1}{\\xi^2}\\frac{d}{d\\xi}\\left( \\xi^2\\frac{d\\theta(\\xi)}{d\\xi} \\right) = -\\theta^n(\\xi)$$\n",
    "\n",
    "Solutions should satisfy the boundary conditions $\\left. \\frac{d\\theta(\\xi)}{\\xi} \\right|_{\\xi = 0} = 0$ and $\\left. \\theta(\\xi) \\right|_{\\xi = 0} = 1$\n",
    "\n",
    "In this model a star has radius $R_* = \\alpha \\xi_0$ and mass $M_* = 4\\pi \\alpha^3 \\rho_c \\int_0^{\\xi_0} \\xi^2 \\theta^n(\\xi)d\\xi$, where $\\xi_0$ is the first zero of the function $\\theta(\\xi)$. Notes from LeBlanc 5.4"
   ]
  },
  {
   "cell_type": "markdown",
   "id": "e622d885-757f-47a2-a235-eb5640de299f",
   "metadata": {
    "tags": []
   },
   "source": [
    "## Numerical solution ##\n",
    "Expanding the Lane-Emden equation,\n",
    "\n",
    "$$\\frac{d^2\\theta(\\xi)}{d\\xi^2} + \\frac{2}{\\xi}\\frac{d\\theta(\\xi)}{d\\xi} = -\\theta^n(\\xi)$$\n",
    "\n",
    "and rearanging as a system of first order equaations for use with scipy.integrate.solve_ivp\n",
    "$$\\begin{array}{ll}\n",
    "\\frac{d\\theta(\\xi)}{d\\xi} &= \\theta'(\\xi) \\\\\n",
    "\\frac{d\\theta'(\\xi)}{d\\xi} &= - \\frac{2}{\\xi}\\theta'(\\xi) - \\theta^n(\\xi)\n",
    "\\end{array}$$"
   ]
  },
  {
   "cell_type": "code",
   "execution_count": null,
   "id": "373e4a00-4d49-4186-878f-9cf76808b8e1",
   "metadata": {
    "tags": []
   },
   "outputs": [],
   "source": [
    "%pylab ipympl\n",
    "import scipy.integrate\n",
    "\n",
    "# define y = <theta, theta'>, t = xi\n",
    "def get_dydt(n):\n",
    "    \"\"\"Get dydt(t, y)\n",
    "    \n",
    "    Parameter\n",
    "    ---------\n",
    "    n : float\n",
    "        Polytropic index\n",
    "    \n",
    "    Returns\n",
    "    -------\n",
    "    f(t, y)\n",
    "        The function dydt defining the Lane-Emden equation\n",
    "    \"\"\"\n",
    "    def dydt(t, y):\n",
    "        \"\"\"The Lane-Emden equation as a system of first order equations\n",
    "        \n",
    "        Parameters\n",
    "        ----------\n",
    "        t : float\n",
    "            Equivelent to the variable xi in the Lane-Emden equation\n",
    "        y : array\n",
    "            The vector <theta(xi), theta'(xi)>\n",
    "        \"\"\"\n",
    "        theta, theta_prime = y\n",
    "        dtheta_dt = theta_prime\n",
    "        dtheta_prime_dt = -2*theta_prime/t - theta**n\n",
    "        return [dtheta_dt, dtheta_prime_dt]\n",
    "    return dydt\n",
    "\n",
    "t_range = (1e-3, 100)\n",
    "resolution = 100\n",
    "n = 1.5\n",
    "\n",
    "t = numpy.linspace(*t_range, resolution)\n",
    "\n",
    "surface_event = lambda t, y:y[0]\n",
    "surface_event.terminal = True\n",
    "\n",
    "solution = scipy.integrate.solve_ivp(get_dydt(n), t_range, y0=[1.0, 0.0], events=surface_event, rtol=1e-9, atol=1e-9)"
   ]
  },
  {
   "cell_type": "code",
   "execution_count": null,
   "id": "06433f3c-05be-49b2-a891-46d2bb19c868",
   "metadata": {
    "tags": []
   },
   "outputs": [],
   "source": [
    "t = solution[\"t\"]\n",
    "theta, theta_prime = solution[\"y\"]\n",
    "r = t/t.max()\n",
    "\n",
    "ifig = 0\n",
    "ifig += 1; pyplot.close(ifig); pyplot.figure(ifig)\n",
    "pyplot.plot(r, theta**n, label=\"density $y = \\\\frac{\\\\rho}{\\\\rho_c}$\")\n",
    "pyplot.plot(r, theta**(n + 1), label=\"pressure $y = \\\\frac{P}{P_c}$\")\n",
    "pyplot.plot(r, theta, label=\"tempurature $y = \\\\frac{T}{T_c}$\")\n",
    "pyplot.xlabel(\"radius $\\\\frac{r}{R_*}$\")\n",
    "pyplot.ylabel(\"parameter $y$\")\n",
    "pyplot.legend()\n",
    "pyplot.show(ifig)"
   ]
  },
  {
   "cell_type": "markdown",
   "id": "75451c50-dd0a-4f06-bd66-0d553a636578",
   "metadata": {},
   "source": [
    "# Mass Coordinate #\n",
    "Changeing the free varaible from $r$ to $M$ in the structure equations leads to the pair of equations,\n",
    "\n",
    "$$\\frac{dP(M)}{dM} = -\\frac{GM}{4\\pi r^4(M)}$$\n",
    "\n",
    "$$\\frac{dr(M)}{dM} = \\frac{1}{4\\pi r^2(M) \\rho(M)}$$\n",
    "\n",
    "given the equation $P = K\\rho^{\\frac{n + 1}{n}}$ where $K$ is a constant and $n$ is the polytropic index. Since the goal is to a system of first order equation instead of trying to combine these equations let us directly insert the equation for $P$ and change to dimensionless varaibles.\n",
    "\n",
    "using the variables $\\rho = \\rho_c \\theta^n$, $r = R_\\odot \\chi$ and $M = M_\\odot \\phi$ and let $P_c = k\\rho_c^{\\frac{n + 1}{n}}$, note $P = P_c\\theta^{n + 1}$, then the equations become\n",
    "\n",
    "$$P_c\\frac{d\\theta^{n+1}}{d\\phi} = (n + 1)P_c\\theta^n \\frac{d\\theta}{d\\phi} = -\\frac{G M_\\odot^2}{4\\pi R_\\odot^4} \\frac{\\phi}{\\chi^4}$$\n",
    "\n",
    "$$\\frac{d\\chi}{d\\phi} = \\frac{M_\\odot}{4\\pi R_\\odot^3 \\rho_c}\\frac{1}{\\chi^2\\theta^n}$$\n",
    "\n",
    "Finaly simplifying the equations yields the set of first order equations"
   ]
  },
  {
   "cell_type": "markdown",
   "id": "a2303b58-f65f-4a6e-ab35-e2f75266e3eb",
   "metadata": {},
   "source": [
    "$$\\frac{d\\theta}{d\\phi} = -\\frac{\\alpha}{n + 1}\\frac{\\phi}{\\chi^4\\theta^n}$$\n",
    "\n",
    "$$\\frac{d\\chi}{d\\phi} = \\beta\\frac{1}{\\chi^2\\theta^n}$$\n",
    "\n",
    "where $\\alpha = \\frac{GM_\\odot^2}{4\\pi R_\\odot^4P_c}$ and $\\beta = \\frac{M_\\odot}{4\\pi R_\\odot^3 \\rho_c}$"
   ]
  },
  {
   "cell_type": "code",
   "execution_count": null,
   "id": "042be7ca-afcc-48fb-b0e7-528425fe9435",
   "metadata": {},
   "outputs": [],
   "source": [
    "import polytrope\n",
    "\n",
    "n = 1\n",
    "rho_c = 150 # [g/cm^3]\n",
    "P_c = 1e17 # [dyn/cm^2]\n",
    "data = polytrope.solve_polytrope(rho_c, P_c, n)\n",
    "m, r, rho, P = polytrope.polytrope_to_cgs(data, rho_c, P_c, n)"
   ]
  },
  {
   "cell_type": "code",
   "execution_count": null,
   "id": "8a74baef-e6db-43d6-8c37-30dfb9238e79",
   "metadata": {},
   "outputs": [],
   "source": [
    "for value, label in [(r, \"radius [cm]\"), (rho, \"density [g/cm^3]\"), (P, \"pressure [dyn/cm^2]\")]:\n",
    "    ifig += 1; pyplot.close(ifig); pyplot.figure(ifig)\n",
    "    pyplot.plot(m, value)\n",
    "    pyplot.xlabel(\"mass coordinate [g]\")\n",
    "    pyplot.ylabel(label)\n",
    "    pyplot.show(ifig)\n",
    "\n",
    "ifig += 1; pyplot.close(ifig); pyplot.figure(ifig)\n",
    "pyplot.plot(r, m/m.max(), label=\"mass $y = \\\\frac{M}{M_{tot}}$\")\n",
    "pyplot.plot(r, rho/rho.max(), label=\"density $y = \\\\frac{\\\\rho}{\\\\rho_c}$\")\n",
    "pyplot.plot(r, P/P.max(), label=\"pressure $y = \\\\frac{P}{P_c}$\")\n",
    "pyplot.xlabel(\"radius [cm]\")\n",
    "pyplot.ylabel(\"parameter $y$\")\n",
    "pyplot.legend()\n",
    "pyplot.show(ifig)"
   ]
  },
  {
   "cell_type": "code",
   "execution_count": null,
   "id": "473f7dda-2a50-4dbc-bfbd-44cd888da68f",
   "metadata": {},
   "outputs": [],
   "source": []
  }
 ],
 "metadata": {
  "kernelspec": {
   "display_name": "Python 3 (ipykernel)",
   "language": "python",
   "name": "python3"
  },
  "language_info": {
   "codemirror_mode": {
    "name": "ipython",
    "version": 3
   },
   "file_extension": ".py",
   "mimetype": "text/x-python",
   "name": "python",
   "nbconvert_exporter": "python",
   "pygments_lexer": "ipython3",
   "version": "3.10.4"
  }
 },
 "nbformat": 4,
 "nbformat_minor": 5
}
