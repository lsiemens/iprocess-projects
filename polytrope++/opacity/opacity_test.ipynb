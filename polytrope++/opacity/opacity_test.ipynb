{
 "cells": [
  {
   "cell_type": "code",
   "execution_count": null,
   "id": "4ba583c7-ec66-4d14-a00b-b2727bbdec57",
   "metadata": {},
   "outputs": [],
   "source": [
    "%pylab ipympl\n",
    "\n",
    "import sys\n",
    "import scipy.interpolate\n",
    "sys.path.append('../')\n",
    "\n",
    "import opacity"
   ]
  },
  {
   "cell_type": "code",
   "execution_count": null,
   "id": "c571c379-c94b-4e9d-9908-c24541c6ad73",
   "metadata": {},
   "outputs": [],
   "source": [
    "opacity_data = opacity.opal.read_file(\"./tables/GN93hz\")\n",
    "#opacity_data = opacity.opal.read_file(\"./tables/OP\")\n",
    "\n",
    "logR = numpy.linspace(-8, 1, 100) - 18\n",
    "logT = numpy.linspace(3.5, 8.5, 100)\n",
    "\n",
    "X, Z = 0.71 + 0*logT, 0.02 + 0*logT\n",
    "\n",
    "opa = opacity.table.get_opacity(opacity.opal.regularize_tables(opacity_data))\n",
    "analytic = opacity.table.analytic_opacity\n",
    "\n",
    "print(\"opacity\", opa(1e-2, 1e7, 0.7, 0.02))\n",
    "\n",
    "ifig = 0\n",
    "ifig += 1; pyplot.close(ifig); pyplot.figure(ifig)\n",
    "for LogR in numpy.arange(-6.0, -1.0) - 18:\n",
    "    T = 10**logT\n",
    "    R = 10**LogR\n",
    "    rho = R*T**3\n",
    "    pyplot.loglog(T, opa(rho, T, X, Z), label=f\"R {LogR + 18}\")\n",
    "    pyplot.plot(T, analytic(rho, T, X, Z), label=f\"Analytic {LogR + 18}\")\n",
    "pyplot.xlabel(\"temperature in [k]\")\n",
    "pyplot.ylabel(\"opacity in [cm^2/g]\")\n",
    "pyplot.legend()\n",
    "pyplot.show(ifig)\n",
    "\n",
    "extent = [logT.min(), logT.max(), logR.min(), logR.max()]\n",
    "LogR, LogT = numpy.meshgrid(logR, logT)\n",
    "T = 10**LogT\n",
    "R = 10**LogR\n",
    "rho = R*T**3\n",
    "X, Z = X[0] + 0*LogT, Z[0] + 0*LogT\n",
    "\n",
    "z = numpy.log10(opa(rho, T, X, Z))\n",
    "ifig += 1; pyplot.close(ifig); pyplot.figure(ifig)\n",
    "pyplot.imshow(z, extent=extent, vmax=5, vmin=-2)\n",
    "pyplot.show(ifig)\n",
    "\n",
    "z = numpy.log10(analytic(rho, T, X, Z))\n",
    "ifig += 1; pyplot.close(ifig); pyplot.figure(ifig)\n",
    "pyplot.imshow(z, extent=extent, vmax=5, vmin=-2)\n",
    "pyplot.show(ifig)"
   ]
  },
  {
   "cell_type": "code",
   "execution_count": null,
   "id": "172b8e56-f007-4c38-b154-151fdf58f8fd",
   "metadata": {},
   "outputs": [],
   "source": []
  }
 ],
 "metadata": {
  "kernelspec": {
   "display_name": "Python 3 (ipykernel)",
   "language": "python",
   "name": "python3"
  },
  "language_info": {
   "codemirror_mode": {
    "name": "ipython",
    "version": 3
   },
   "file_extension": ".py",
   "mimetype": "text/x-python",
   "name": "python",
   "nbconvert_exporter": "python",
   "pygments_lexer": "ipython3",
   "version": "3.10.4"
  }
 },
 "nbformat": 4,
 "nbformat_minor": 5
}
