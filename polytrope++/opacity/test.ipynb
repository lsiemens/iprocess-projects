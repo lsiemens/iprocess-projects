{
 "cells": [
  {
   "cell_type": "code",
   "execution_count": null,
   "id": "4ba583c7-ec66-4d14-a00b-b2727bbdec57",
   "metadata": {},
   "outputs": [],
   "source": [
    "%pylab ipympl\n",
    "\n",
    "import opal\n",
    "import scipy.interpolate"
   ]
  },
  {
   "cell_type": "code",
   "execution_count": null,
   "id": "c571c379-c94b-4e9d-9908-c24541c6ad73",
   "metadata": {},
   "outputs": [],
   "source": [
    "X_i, logR, logT, tables = opal.read_file(\"OP\")\n",
    "opa = opal.linear_opacity(opal.read_file(\"OP\"))\n",
    "X_i = numpy.array(X_i)\n",
    "\n",
    "def k(rho, T): # analytical approximation\n",
    "    X = 0.7\n",
    "    Z = 0.02\n",
    "    A = 0.2*(1 + X)/((1 + 2.7e11*rho/T**2)*(1 + (T/4.5e8)**0.86))\n",
    "    B = 4e25*(1 + X)*(Z + 0.001)*rho/T**3.5\n",
    "    C = 1.1e-25*Z**0.5*rho**0.5*T**7.7\n",
    "    D = 1/(1/(A + B) + 1/C) + 0.1*Z\n",
    "    Z_star = (1 + X)/2\n",
    "    E = 2.6e-7*Z_star*T**2*(1 + (rho/2e6)**(2/3))/rho**2\n",
    "    return 1/(1/D + 1/E)\n",
    "\n",
    "ifig = 0\n",
    "ifig += 1; pyplot.close(ifig); pyplot.figure(ifig)\n",
    "for i in range(len(logR)):\n",
    "    if (logR[i] in [-1., -2., -3., -4., -6.]):\n",
    "        T = 10**logT\n",
    "        R = 10**logR[i]\n",
    "        T6 = T/1e6\n",
    "        rho = R*T6**3\n",
    "        pyplot.loglog(T, opa(rho, T, 0, 0), label=f\"R {logR[i]}\")\n",
    "        pyplot.plot(T, k(rho, T), label=f\"Analytic {logR[i]}\")\n",
    "pyplot.xlabel(\"temperature in [k]\")\n",
    "pyplot.ylabel(\"opacity in [cm^2/g]\")\n",
    "pyplot.legend()\n",
    "pyplot.show(ifig)\n",
    "\n",
    "Ti = 72\n",
    "weight = numpy.logical_not(numpy.isnan(tables[Ti])) + 1\n",
    "table = numpy.nan_to_num(tables[Ti], nan=-1)\n",
    "\n",
    "ifig += 1; pyplot.close(ifig); pyplot.figure(ifig)\n",
    "extent = [logT.min(), logT.max(), logR.min(), logR.max()]\n",
    "pyplot.imshow(table.T[::-1, :], extent=extent, vmax=5, vmin=-2)\n",
    "pyplot.show(ifig)\n",
    "\n",
    "LogR, LogT = numpy.meshgrid(logR, logT)\n",
    "\n",
    "ifig += 1; pyplot.close(ifig); pyplot.figure(ifig)\n",
    "extent = [logT.min(), logT.max(), logR.min(), logR.max()]\n",
    "T = 10**LogT\n",
    "R = 10**LogR\n",
    "T6 = T/1e6\n",
    "rho = R*T6**3\n",
    "z = numpy.log10(k(rho, T))\n",
    "pyplot.imshow(z.T[::-1, :], extent=extent, vmax=5, vmin=-2)\n",
    "pyplot.show(ifig)"
   ]
  },
  {
   "cell_type": "code",
   "execution_count": null,
   "id": "27b0e363-0f05-4e72-9aea-d1da6275d895",
   "metadata": {},
   "outputs": [],
   "source": []
  },
  {
   "cell_type": "code",
   "execution_count": null,
   "id": "5fb1ae02-29b4-4c82-9450-d20fe7b66445",
   "metadata": {},
   "outputs": [],
   "source": []
  }
 ],
 "metadata": {
  "kernelspec": {
   "display_name": "Python 3 (ipykernel)",
   "language": "python",
   "name": "python3"
  },
  "language_info": {
   "codemirror_mode": {
    "name": "ipython",
    "version": 3
   },
   "file_extension": ".py",
   "mimetype": "text/x-python",
   "name": "python",
   "nbconvert_exporter": "python",
   "pygments_lexer": "ipython3",
   "version": "3.10.4"
  }
 },
 "nbformat": 4,
 "nbformat_minor": 5
}
