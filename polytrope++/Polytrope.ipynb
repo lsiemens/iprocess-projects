{
 "cells": [
  {
   "cell_type": "markdown",
   "id": "69ca7178-2abe-4548-a4bf-43dbfee6c32c",
   "metadata": {},
   "source": [
    "# Polytrope #\n",
    "Solve the stellar structur equations,\n",
    "$$\\frac{dP(r)}{dr} = -\\frac{\\rho(r)GM(r)}{r^2}$$\n",
    "$$\\frac{dM(r)}{dr} = 4\\pi r^2 \\rho(r)$$\n",
    "with the equation of state $P = K\\rho^{\\frac{n + 1}{n}}$ where $K$ is a constant and $n$ is the polytropic index. In this case the equations do not have an explicit tempurature dependence and can be conbined to the form,\n",
    "\n",
    "$$\\frac{1}{r^2}\\frac{d}{dr}\\left( \\frac{r^2}{\\rho(r)}\\frac{dP(r)}{dr} \\right) = -4\\pi G\\rho(r)$$\n",
    "\n",
    "Written in dimensionless form with $\\rho(r) = \\rho_c \\theta^n(r)$, $P(r) = P_c \\theta^{n + 1}(r)$, $\\alpha^2 = \\frac{(n + 1)P_c}{4\\pi G\\rho_c^2}$, $\\xi = \\frac{r}{\\alpha}$, where $P_c = K\\rho_c^{\\frac{n+1}{n}}$, then the result is the dimensionless Lane-Emden equation\n",
    "\n",
    "$$\\frac{1}{\\xi^2}\\frac{d}{d\\xi}\\left( \\xi^2\\frac{d\\theta(\\xi)}{d\\xi} \\right) = -\\theta^n(\\xi)$$\n",
    "\n",
    "Solutions should satisfy the boundary conditions $\\left. \\frac{d\\theta(\\xi)}{\\xi} \\right|_{\\xi = 0} = 0$ and $\\left. \\theta(\\xi) \\right|_{\\xi = 0} = 1$\n",
    "\n",
    "In this model a star has radius $R_* = \\alpha \\xi_0$ and mass $M_* = 4\\pi \\alpha^3 \\rho_c \\int_0^{\\xi_0} \\xi^2 \\theta^n(\\xi)d\\xi$, where $\\xi_0$ is the first zero of the function $\\theta(\\xi)$. Notes from LeBlanc 5.4"
   ]
  },
  {
   "cell_type": "markdown",
   "id": "e622d885-757f-47a2-a235-eb5640de299f",
   "metadata": {},
   "source": [
    "## Numerical solution ##\n",
    "Expanding the Lane-Emden equation,\n",
    "\n",
    "$$\\frac{d^2\\theta(\\xi)}{d\\xi^2} + \\frac{2}{\\xi}\\frac{d\\theta(\\xi)}{d\\xi} = -\\theta^n(\\xi)$$\n",
    "\n",
    "and rearanging as a system of first order equaations for use with scipy.integrate.solve_ivp\n",
    "$$\\begin{array}{ll}\n",
    "\\frac{d\\theta(\\xi)}{d\\xi} &= \\theta'(\\xi) \\\\\n",
    "\\frac{d\\theta'(\\xi)}{d\\xi} &= - \\frac{2}{\\xi}\\theta'(\\xi) - \\theta^n(\\xi)\n",
    "\\end{array}$$"
   ]
  },
  {
   "cell_type": "code",
   "execution_count": null,
   "id": "373e4a00-4d49-4186-878f-9cf76808b8e1",
   "metadata": {},
   "outputs": [],
   "source": [
    "%pylab ipympl\n",
    "import scipy.integrate\n",
    "\n",
    "# define y = <theta, theta'>, t = xi\n",
    "def get_dydt(n):\n",
    "    \"\"\"Get dydt(t, y)\n",
    "    \n",
    "    Parameter\n",
    "    ---------\n",
    "    n : float\n",
    "        Polytropic index\n",
    "    \n",
    "    Returns\n",
    "    -------\n",
    "    f(t, y)\n",
    "        The function dydt defining the Lane-Emden equation\n",
    "    \"\"\"\n",
    "    def dydt(t, y):\n",
    "        \"\"\"The Lane-Emden equation as a system of first order equations\n",
    "        \n",
    "        Parameters\n",
    "        ----------\n",
    "        t : float\n",
    "            Equivelent to the variable xi in the Lane-Emden equation\n",
    "        y : array\n",
    "            The vector <theta(xi), theta'(xi)>\n",
    "        \"\"\"\n",
    "        theta, theta_prime = y\n",
    "        dtheta_dt = theta_prime\n",
    "        dtheta_prime_dt = -2*theta_prime/t - theta**n\n",
    "        return [dtheta_dt, dtheta_prime_dt]\n",
    "    return dydt\n",
    "\n",
    "t_range = (1e-3, 100)\n",
    "resolution = 100\n",
    "n = 5\n",
    "\n",
    "t = numpy.linspace(*t_range, resolution)\n",
    "\n",
    "surface_event = lambda t, y:y[0]\n",
    "surface_event.terminal = True\n",
    "\n",
    "solution = scipy.integrate.solve_ivp(get_dydt(n), t_range, y0=[1.0, 0.0], events=surface_event, rtol=1e-9, atol=1e-9)"
   ]
  },
  {
   "cell_type": "code",
   "execution_count": null,
   "id": "06433f3c-05be-49b2-a891-46d2bb19c868",
   "metadata": {},
   "outputs": [],
   "source": [
    "t = solution[\"t\"]\n",
    "theta, theta_prime = solution[\"y\"]\n",
    "r = t/t.max()\n",
    "\n",
    "ifig = 0\n",
    "ifig += 1; pyplot.close(ifig); pyplot.figure(ifig)\n",
    "pyplot.plot(r, theta**n, label=\"dencity $y = \\\\frac{\\\\rho}{\\\\rho_c}$\")\n",
    "pyplot.plot(r, theta**(n + 1), label=\"pressure $y = \\\\frac{P}{P_c}$\")\n",
    "pyplot.plot(r, theta, label=\"tempurature $y = \\\\frac{T}{T_c}$\")\n",
    "pyplot.xlabel(\"radius $\\\\frac{r}{R_\\\\odot}$\")\n",
    "pyplot.ylabel(\"parameter $y$\")\n",
    "pyplot.ylim(-0.1, 10)\n",
    "pyplot.legend()\n",
    "pyplot.show(ifig)"
   ]
  },
  {
   "cell_type": "code",
   "execution_count": null,
   "id": "0e8521f4-d9f0-445f-93ad-e9684a408208",
   "metadata": {},
   "outputs": [],
   "source": []
  },
  {
   "cell_type": "code",
   "execution_count": null,
   "id": "d94bd5e6-3513-4b75-98f0-cc23e5371bc4",
   "metadata": {},
   "outputs": [],
   "source": []
  }
 ],
 "metadata": {
  "kernelspec": {
   "display_name": "Python 3",
   "language": "python",
   "name": "python3"
  },
  "language_info": {
   "codemirror_mode": {
    "name": "ipython",
    "version": 3
   },
   "file_extension": ".py",
   "mimetype": "text/x-python",
   "name": "python",
   "nbconvert_exporter": "python",
   "pygments_lexer": "ipython3",
   "version": "3.6.9"
  }
 },
 "nbformat": 4,
 "nbformat_minor": 5
}
