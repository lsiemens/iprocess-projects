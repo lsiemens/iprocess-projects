{
 "cells": [
  {
   "cell_type": "markdown",
   "id": "69ca7178-2abe-4548-a4bf-43dbfee6c32c",
   "metadata": {},
   "source": [
    "# Polytrope #\n",
    "Solve the stellar structur equations,\n",
    "$$\\frac{dP(r)}{dr} = -\\frac{\\rho(r)GM(r)}{r^2}$$\n",
    "$$\\frac{dM(r)}{dr} = 4\\pi r^2 \\rho(r)$$\n",
    "with the equation of state $P = K\\rho^{\\frac{n + 1}{n}}$ where $K$ is a constant and $n$ is the polytropic index. In this case the equations do not have an explicit tempurature dependence and can be conbined to the form,\n",
    "\n",
    "$$\\frac{1}{r^2}\\frac{d}{dr}\\left( \\frac{r^2}{\\rho(r)}\\frac{dP(r)}{dr} \\right) = -4\\pi G\\rho(r)$$\n",
    "\n",
    "Written in dimensionless form with $\\rho(r) = \\rho_c \\theta^n(r)$, $P(r) = P_c \\theta^{n + 1}(r)$, $\\alpha^2 = \\frac{(n + 1)P_c}{4\\pi G\\rho_c^2}$, $\\xi = \\frac{r}{\\alpha}$, where $P_c = K\\rho_c^{\\frac{n+1}{n}}$, then the result is the dimensionless Lane-Emden equation\n",
    "\n",
    "$$\\frac{1}{\\xi^2}\\frac{d}{d\\xi}\\left( \\xi^2\\frac{d\\theta(\\xi)}{d\\xi} \\right) = -\\theta^n(\\xi)$$\n",
    "\n",
    "Solutions should satisfy the boundary conditions $\\left. \\frac{d\\theta(\\xi)}{\\xi} \\right|_{\\xi = 0} = 0$ and $\\left. \\theta(\\xi) \\right|_{\\xi = 0} = 1$\n",
    "\n",
    "In this model a star has radius $R_* = \\alpha \\xi_0$ and mass $M_* = 4\\pi \\alpha^3 \\rho_c \\int_0^{\\xi_0} \\xi^2 \\theta^n(\\xi)d\\xi$, where $\\xi_0$ is the first zero of the function $\\theta(\\xi)$. Notes from LeBlanc 5.4"
   ]
  },
  {
   "cell_type": "code",
   "execution_count": null,
   "id": "acc5db15-64a1-4ae1-8b16-8199bcd7f77c",
   "metadata": {},
   "outputs": [],
   "source": []
  }
 ],
 "metadata": {
  "kernelspec": {
   "display_name": "Python 3 (ipykernel)",
   "language": "python",
   "name": "python3"
  },
  "language_info": {
   "codemirror_mode": {
    "name": "ipython",
    "version": 3
   },
   "file_extension": ".py",
   "mimetype": "text/x-python",
   "name": "python",
   "nbconvert_exporter": "python",
   "pygments_lexer": "ipython3",
   "version": "3.10.4"
  }
 },
 "nbformat": 4,
 "nbformat_minor": 5
}
