{
 "cells": [
  {
   "cell_type": "markdown",
   "id": "3088a06a-3d5b-43b6-a3b1-60a0d889b3bb",
   "metadata": {},
   "source": [
    "# Compare data from JINA Reaclib to NACRE II #\n"
   ]
  },
  {
   "cell_type": "code",
   "execution_count": null,
   "id": "28f83fc4-4def-4cb1-b319-c5cdcc6e217b",
   "metadata": {},
   "outputs": [],
   "source": [
    "from matplotlib import pyplot\n",
    "import numpy\n",
    "\n",
    "nacre = numpy.loadtxt(\"n15-pg-o16_NACREII\")\n",
    "\n",
    "pyplot.plot(nacre[:, 0], nacre[:, 1])\n",
    "pyplot.plot(nacre[:, 0], nacre[:, 2])\n",
    "pyplot.plot(nacre[:, 0], nacre[:, 3])\n",
    "pyplot.show()"
   ]
  },
  {
   "cell_type": "code",
   "execution_count": null,
   "id": "209121e8-2f9e-4666-9833-289f5432d2a5",
   "metadata": {},
   "outputs": [],
   "source": []
  }
 ],
 "metadata": {
  "kernelspec": {
   "display_name": "Python 3 (ipykernel)",
   "language": "python",
   "name": "python3"
  },
  "language_info": {
   "codemirror_mode": {
    "name": "ipython",
    "version": 3
   },
   "file_extension": ".py",
   "mimetype": "text/x-python",
   "name": "python",
   "nbconvert_exporter": "python",
   "pygments_lexer": "ipython3",
   "version": "3.10.4"
  }
 },
 "nbformat": 4,
 "nbformat_minor": 5
}
