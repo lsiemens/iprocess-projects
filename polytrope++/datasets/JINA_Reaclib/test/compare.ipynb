{
 "cells": [
  {
   "cell_type": "markdown",
   "id": "3088a06a-3d5b-43b6-a3b1-60a0d889b3bb",
   "metadata": {},
   "source": [
    "# Compare data from JINA Reaclib to NACRE II #\n"
   ]
  },
  {
   "cell_type": "code",
   "execution_count": null,
   "id": "28f83fc4-4def-4cb1-b319-c5cdcc6e217b",
   "metadata": {},
   "outputs": [],
   "source": [
    "%pylab ipympl\n",
    "import sys\n",
    "sys.path.append('..')\n",
    "import reactions.reaclib\n",
    "ifig = 0\n",
    "\n",
    "examples = [[\"n15-pg-o16_NACREII\", \"../reactions/n15-pg-o16-li10\"],\n",
    "            [\"he3-he3pp-he4_NACREII\", \"../reactions/he3-he3pp-he4-nacr\"],\n",
    "            [\"b11-an-n14_NACREII\", \"../reactions/b11-an-n14-bb92\"]]\n",
    "\n",
    "for fnames in examples:\n",
    "    nacre = numpy.loadtxt(fnames[0])\n",
    "    species, nrr = reactions.reaclib.read_file(fnames[1])\n",
    "\n",
    "    ifig += 1; pyplot.close(ifig); pyplot.figure(ifig)\n",
    "    pyplot.plot(nacre[:, 0], nacre[:, 1], \"r--\", label=\"NACRE II: adopted\")\n",
    "    pyplot.plot(nacre[:, 0], nacre[:, 2], \"g-.\", label=\"NACRE II: low\")\n",
    "    pyplot.plot(nacre[:, 0], nacre[:, 3], \"b:\", label=\"NACRE II: high\")\n",
    "    pyplot.plot(nacre[:, 0], nrr(nacre[:, 0]), \"k-\", label=\"JINA Reaclib\")\n",
    "    pyplot.title(fnames[0] + \" comparison\")\n",
    "    pyplot.legend()\n",
    "    pyplot.show(ifig)"
   ]
  },
  {
   "cell_type": "code",
   "execution_count": null,
   "id": "781d39d8-e86b-4b0c-a9a7-b458cb8c8aa5",
   "metadata": {},
   "outputs": [],
   "source": []
  }
 ],
 "metadata": {
  "kernelspec": {
   "display_name": "Python 3 (ipykernel)",
   "language": "python",
   "name": "python3"
  },
  "language_info": {
   "codemirror_mode": {
    "name": "ipython",
    "version": 3
   },
   "file_extension": ".py",
   "mimetype": "text/x-python",
   "name": "python",
   "nbconvert_exporter": "python",
   "pygments_lexer": "ipython3",
   "version": "3.10.4"
  }
 },
 "nbformat": 4,
 "nbformat_minor": 5
}
