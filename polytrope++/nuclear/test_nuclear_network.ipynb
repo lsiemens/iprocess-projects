{
 "cells": [
  {
   "cell_type": "code",
   "execution_count": null,
   "id": "e9c127b2-6bc4-4a8c-ad3c-57fc88c3c07d",
   "metadata": {},
   "outputs": [],
   "source": [
    "%pylab ipympl\n",
    "ifig = 0\n",
    "\n",
    "import scipy.integrate\n",
    "import sys\n",
    "sys.path.append('../')\n",
    "\n",
    "import nuclear\n",
    "\n",
    "reactions = nuclear.network.read_network_file(\"./networks/cno_cycle\") + nuclear.network.read_network_file(\"./networks/pp_chain\")\n",
    "\n",
    "ifig += 1\n",
    "nuclear.plot.network_graph(reactions, ifig=ifig)"
   ]
  },
  {
   "cell_type": "code",
   "execution_count": null,
   "id": "36385bad-d71e-432b-9a07-b4d335575114",
   "metadata": {
    "tags": []
   },
   "outputs": [],
   "source": [
    "rho = 150 # in [g/cm^3]\n",
    "T = 1.5e7 # in [K]\n",
    "particles, get_dYdt_epsilon = nuclear.network.build_network(reactions, dir=\"./reactions\")\n",
    "\n",
    "print(f\"Loaded network using {len(particles):d} isotopes\")\n",
    "\n",
    "X_0 = nuclear.network.initalize_mass_fraction(particles)\n",
    "Y_0 = nuclear.network.mass_frac_to_molar_abu(particles, X_0)"
   ]
  },
  {
   "cell_type": "code",
   "execution_count": null,
   "id": "98911caa-17c2-4f38-9c28-a071ce46ed18",
   "metadata": {
    "tags": []
   },
   "outputs": [],
   "source": [
    "lt_range = numpy.array([0, 20])\n",
    "t_range = 10.0**lt_range\n",
    "\n",
    "t, Y = nuclear.network.solve_network(rho, T, Y_0, get_dYdt_epsilon, t_range, atol=1e-9, rtol=1e-9)"
   ]
  },
  {
   "cell_type": "code",
   "execution_count": null,
   "id": "b8c7a70f-e25f-4407-b78d-036253dee38c",
   "metadata": {},
   "outputs": [],
   "source": [
    "ifig += 1\n",
    "nuclear.plot.isotope_evolution(t, Y, particles, ifig=ifig)"
   ]
  },
  {
   "cell_type": "code",
   "execution_count": null,
   "id": "deebf802-1454-4db6-993f-64b8670c6101",
   "metadata": {},
   "outputs": [],
   "source": []
  }
 ],
 "metadata": {
  "kernelspec": {
   "display_name": "Python 3 (ipykernel)",
   "language": "python",
   "name": "python3"
  },
  "language_info": {
   "codemirror_mode": {
    "name": "ipython",
    "version": 3
   },
   "file_extension": ".py",
   "mimetype": "text/x-python",
   "name": "python",
   "nbconvert_exporter": "python",
   "pygments_lexer": "ipython3",
   "version": "3.10.4"
  }
 },
 "nbformat": 4,
 "nbformat_minor": 5
}
