{
 "cells": [
  {
   "cell_type": "code",
   "execution_count": null,
   "id": "e9c127b2-6bc4-4a8c-ad3c-57fc88c3c07d",
   "metadata": {},
   "outputs": [],
   "source": [
    "%pylab ipympl\n",
    "ifig = 0\n",
    "\n",
    "import scipy.integrate\n",
    "import sys\n",
    "sys.path.append('../')\n",
    "\n",
    "import nuclear\n",
    "\n",
    "reactions = nuclear.network.read_network_file(\"./networks/cno_cycle\") + nuclear.network.read_network_file(\"./networks/pp_chain\")\n",
    "\n",
    "ifig += 1; pyplot.close(ifig); pyplot.figure(ifig)\n",
    "nuclear.network.draw_network(reactions, show=False)\n",
    "pyplot.show(ifig)"
   ]
  },
  {
   "cell_type": "code",
   "execution_count": null,
   "id": "36385bad-d71e-432b-9a07-b4d335575114",
   "metadata": {
    "tags": []
   },
   "outputs": [],
   "source": [
    "rho = 150 # in [g/cm^3]\n",
    "T = 1.5e7 # in [K]\n",
    "particles, get_dYdt_epsilon = nuclear.network.build_network(reactions, dir=\"./reactions\")\n",
    "\n",
    "print(\"particles\", particles)\n",
    "\n",
    "X_0 = nuclear.network.initalize_mass_fraction(particles)\n",
    "Y_0 = nuclear.network.mass_frac_to_molar_abu(particles, X_0)"
   ]
  },
  {
   "cell_type": "code",
   "execution_count": null,
   "id": "98911caa-17c2-4f38-9c28-a071ce46ed18",
   "metadata": {
    "tags": []
   },
   "outputs": [],
   "source": [
    "lt_range = numpy.array([0, 25])\n",
    "lt = numpy.linspace(*lt_range, 10000)\n",
    "t_range = 10.0**lt_range\n",
    "t = 10.0**lt\n",
    "\n",
    "print(\"start\")\n",
    "\n",
    "dYdt, epsilon = get_dYdt_epsilon(rho, T)\n",
    "solve = scipy.integrate.solve_ivp(dYdt, t_range, Y_0, t_eval=t, method=\"Radau\", atol=1e-9, rtol=1e-9)\n",
    "solve.message"
   ]
  },
  {
   "cell_type": "code",
   "execution_count": null,
   "id": "b8c7a70f-e25f-4407-b78d-036253dee38c",
   "metadata": {},
   "outputs": [],
   "source": [
    "t = solve[\"t\"]/(60*60*24*365.25) # convert time to years from seconds\n",
    "Y = solve[\"y\"]\n",
    "X = nuclear.network.molar_abu_to_mass_frac(particles, Y)\n",
    "\n",
    "ifig += 1; pyplot.close(ifig); pyplot.figure(ifig)\n",
    "for x,AZ in zip(X, particles):\n",
    "    if nuclear.isotopes.AZN_to_str((*AZ, 1)) == \"d\":\n",
    "        pyplot.loglog(t, x, \"k--\", label=nuclear.isotopes.AZN_to_str((*AZ, 1)))\n",
    "    else:\n",
    "        pyplot.loglog(t, x, label=nuclear.isotopes.AZN_to_str((*AZ, 1)))\n",
    "pyplot.xlabel(\"t [yr]\")\n",
    "pyplot.ylabel(\"mass fraction\")\n",
    "pyplot.title(\"PP-Chain at fixed $T$, $\\\\rho$\")\n",
    "pyplot.ylim(1e-10, 1.5)\n",
    "pyplot.legend()\n",
    "pyplot.show(ifig)"
   ]
  },
  {
   "cell_type": "code",
   "execution_count": null,
   "id": "deebf802-1454-4db6-993f-64b8670c6101",
   "metadata": {},
   "outputs": [],
   "source": []
  }
 ],
 "metadata": {
  "kernelspec": {
   "display_name": "Python 3 (ipykernel)",
   "language": "python",
   "name": "python3"
  },
  "language_info": {
   "codemirror_mode": {
    "name": "ipython",
    "version": 3
   },
   "file_extension": ".py",
   "mimetype": "text/x-python",
   "name": "python",
   "nbconvert_exporter": "python",
   "pygments_lexer": "ipython3",
   "version": "3.10.4"
  }
 },
 "nbformat": 4,
 "nbformat_minor": 5
}
