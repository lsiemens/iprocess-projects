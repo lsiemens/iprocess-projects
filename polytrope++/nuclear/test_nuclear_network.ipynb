{
 "cells": [
  {
   "cell_type": "code",
   "execution_count": null,
   "id": "e9c127b2-6bc4-4a8c-ad3c-57fc88c3c07d",
   "metadata": {},
   "outputs": [],
   "source": [
    "%pylab ipympl\n",
    "ifig = 0\n",
    "\n",
    "import scipy.integrate\n",
    "import sys\n",
    "sys.path.append('../')\n",
    "\n",
    "import nuclear\n",
    "\n",
    "reactions = nuclear.network.read_network_file(\"./networks/cno_cycle\") + nuclear.network.read_network_file(\"./networks/pp_chain\")\n",
    "\n",
    "ifig += 1\n",
    "nuclear.plot.network_graph(reactions, ifig=ifig)"
   ]
  },
  {
   "cell_type": "code",
   "execution_count": null,
   "id": "36385bad-d71e-432b-9a07-b4d335575114",
   "metadata": {
    "tags": []
   },
   "outputs": [],
   "source": [
    "rho = 150 # in [g/cm^3]\n",
    "T = 1.5e7 # in [K]\n",
    "particles, get_dYdt_epsilon, X_metalicity = nuclear.network.build_network(reactions, dir=\"./reactions\")\n",
    "\n",
    "print(f\"Loaded network using {len(particles):d} isotopes\")\n",
    "\n",
    "X_0 = nuclear.network.initalize_mass_fraction(particles)\n",
    "Y_0 = nuclear.network.mass_frac_to_molar_abu(particles, X_0)"
   ]
  },
  {
   "cell_type": "code",
   "execution_count": null,
   "id": "87b64261-37c1-4ac5-9af4-5e4cf90629cb",
   "metadata": {
    "tags": []
   },
   "outputs": [],
   "source": [
    "t_range = (0, 1e15)\n",
    "t, Y, status = nuclear.network.solve_network(rho, T, Y_0, get_dYdt_epsilon, t_range)\n",
    "\n",
    "ifig += 1\n",
    "nuclear.plot.isotope_evolution(t, Y, particles, ifig=ifig)"
   ]
  },
  {
   "cell_type": "markdown",
   "id": "f601318b-39ae-427e-8918-6f14ecb27b3d",
   "metadata": {},
   "source": [
    "## Radial profile test ##"
   ]
  },
  {
   "cell_type": "code",
   "execution_count": null,
   "id": "7fd0a9b9-56ba-4c09-86b2-c3bfe1502c36",
   "metadata": {
    "tags": []
   },
   "outputs": [],
   "source": [
    "m = numpy.linspace(0, 1e33, 5)\n",
    "rho = numpy.linspace(rho, 1e-5, 5)\n",
    "T = numpy.linspace(T, 1e3, 5)\n",
    "Y_0 = Y[:, -1][:, None] + 0*rho[None, :]\n",
    "\n",
    "t_range = (0, 3e9*3e7)\n",
    "Y, status = nuclear.network.solve_radial_network(rho, T, Y_0, get_dYdt_epsilon, t_range)\n",
    "\n",
    "ifig += 1\n",
    "nuclear.plot.isotope_profile(m, Y, particles, ifig=ifig)"
   ]
  },
  {
   "cell_type": "code",
   "execution_count": null,
   "id": "09571c74-170d-497b-ba50-72d0beffd36c",
   "metadata": {},
   "outputs": [],
   "source": [
    "Y_interp = nuclear.network.interpolate_molar_abundance(m, Y)\n",
    "m = numpy.linspace(m[0], m[-1], 250)\n",
    "Y = Y_interp(m)\n",
    "\n",
    "ifig += 1\n",
    "nuclear.plot.isotope_profile(m, Y, particles, ifig=ifig)"
   ]
  },
  {
   "cell_type": "code",
   "execution_count": null,
   "id": "a0b684c2-7c5d-447a-992a-94d30c1f4603",
   "metadata": {},
   "outputs": [],
   "source": []
  }
 ],
 "metadata": {
  "kernelspec": {
   "display_name": "Python 3 (ipykernel)",
   "language": "python",
   "name": "python3"
  },
  "language_info": {
   "codemirror_mode": {
    "name": "ipython",
    "version": 3
   },
   "file_extension": ".py",
   "mimetype": "text/x-python",
   "name": "python",
   "nbconvert_exporter": "python",
   "pygments_lexer": "ipython3",
   "version": "3.10.4"
  }
 },
 "nbformat": 4,
 "nbformat_minor": 5
}
