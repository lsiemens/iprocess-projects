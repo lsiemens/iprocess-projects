{
 "cells": [
  {
   "cell_type": "code",
   "execution_count": null,
   "id": "e9c127b2-6bc4-4a8c-ad3c-57fc88c3c07d",
   "metadata": {},
   "outputs": [],
   "source": [
    "%pylab ipympl\n",
    "import scipy.integrate\n",
    "import network\n",
    "import isotopes\n",
    "\n",
    "reactions = network.read_network_file(\"./networks/cno_branch_I\")"
   ]
  },
  {
   "cell_type": "code",
   "execution_count": null,
   "id": "5e52ebe3-12af-4cae-a5ad-2478af1e703b",
   "metadata": {
    "tags": []
   },
   "outputs": [],
   "source": [
    "rho = 1 # g/cm^3\n",
    "T9 = 0.015\n",
    "particles, dydt = network.build_network(reactions, T9, rho)\n",
    "\n",
    "print(\"particles\", particles)\n",
    "\n",
    "#X = [o15, n13, n14, p, n15, a, c12, c13]\n",
    "#Y_0 = [0.00/15.0, 0.00/13, 0.01/14, 0.7/1, 0.01/15.0, 0.24/4.0, 0.01/12.0, 0.01/13.0]\n",
    "X_0 = [0.7, 0.24, 0.01, 0.01, 0.0, 0.01, 0.01, 0.0]\n",
    "Y_0 = [x/AZ[0] for x, AZ in zip(X_0, particles)]\n",
    "\n",
    "lt_range = numpy.array([-1, 22])\n",
    "lt = numpy.linspace(*lt_range, 10000)\n",
    "t_range = 10.0**lt_range\n",
    "t = 10.0**lt\n",
    "\n",
    "solve = scipy.integrate.solve_ivp(dydt, t_range, Y_0, t_eval=t, method=\"Radau\", rtol=1e-9, atol=1e-9)\n",
    "solve.message"
   ]
  },
  {
   "cell_type": "code",
   "execution_count": null,
   "id": "b8c7a70f-e25f-4407-b78d-036253dee38c",
   "metadata": {},
   "outputs": [],
   "source": [
    "t = solve[\"t\"]\n",
    "Y = solve[\"y\"]\n",
    "X = [y*AZ[0] for y, AZ in zip(Y, particles)]\n",
    "\n",
    "ifig = 0\n",
    "\n",
    "ifig += 1; pyplot.close(ifig); pyplot.figure(ifig)\n",
    "for x,AZ in zip(X, particles):\n",
    "    pyplot.loglog(t, x, label=isotopes.AZN_to_str((*AZ, 1)))\n",
    "pyplot.xlabel(\"t [yr]\")\n",
    "pyplot.ylabel(\"mass fraction\")\n",
    "pyplot.title(\"PP-Chain at fixed $T$, $\\\\rho$\")\n",
    "pyplot.ylim(1e-7, 1.5)\n",
    "pyplot.legend()\n",
    "pyplot.show(ifig)"
   ]
  },
  {
   "cell_type": "code",
   "execution_count": null,
   "id": "2a5f8fbc-2118-43c0-98fb-c6101748797d",
   "metadata": {},
   "outputs": [],
   "source": []
  },
  {
   "cell_type": "code",
   "execution_count": null,
   "id": "8281ca22-1bf8-429e-bfb2-9d3c24f313c0",
   "metadata": {},
   "outputs": [],
   "source": []
  }
 ],
 "metadata": {
  "kernelspec": {
   "display_name": "Python 3 (ipykernel)",
   "language": "python",
   "name": "python3"
  },
  "language_info": {
   "codemirror_mode": {
    "name": "ipython",
    "version": 3
   },
   "file_extension": ".py",
   "mimetype": "text/x-python",
   "name": "python",
   "nbconvert_exporter": "python",
   "pygments_lexer": "ipython3",
   "version": "3.10.4"
  }
 },
 "nbformat": 4,
 "nbformat_minor": 5
}
