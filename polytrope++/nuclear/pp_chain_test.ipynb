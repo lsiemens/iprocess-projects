{
 "cells": [
  {
   "cell_type": "code",
   "execution_count": null,
   "id": "e9c127b2-6bc4-4a8c-ad3c-57fc88c3c07d",
   "metadata": {},
   "outputs": [],
   "source": [
    "%pylab ipympl\n",
    "import scipy.integrate\n",
    "\n",
    "import reaclib\n",
    "import isotopes"
   ]
  },
  {
   "cell_type": "code",
   "execution_count": null,
   "id": "5e52ebe3-12af-4cae-a5ad-2478af1e703b",
   "metadata": {},
   "outputs": [],
   "source": [
    "pp_r, pp_e, r_pp = reaclib.read_file(\"./reactions/p-p-d-ec\")\n",
    "d_r, d_e, r_d = reaclib.read_file(\"./reactions/d-pg-he3-de04\")\n",
    "h3_r, h3_e, r_h3 = reaclib.read_file(\"./reactions/he3-he3pp-he4-nacr\")\n",
    "print(\"Reactions:\")\n",
    "print(isotopes.reaction_to_str(pp_r))\n",
    "print(isotopes.reaction_to_str(d_r))\n",
    "print(isotopes.reaction_to_str(h3_r))\n",
    "\n",
    "# X = [p, d, h3, a]\n",
    "Y_0 = [0.97/1.0, 0.01/2, 0.01/3, 0.01/4]\n",
    "rho = 1 # g/cm^3\n",
    "T9 = 0.015\n",
    "\n",
    "def dYdt(t, Y):\n",
    "    p, d, h3, a= Y\n",
    "    lambda1 = p**2*rho*r_pp(T9)/2\n",
    "    lambda2 = d*p*rho*r_d(T9)\n",
    "    lambda3 = h3**2*rho*r_h3(T9)/2\n",
    "    dpdt = -2*lambda1 - lambda2 + 2*lambda3\n",
    "    dddt = lambda1 - lambda2\n",
    "    dh3dt = lambda2 - 2*lambda3\n",
    "    dadt = lambda3\n",
    "    return [dpdt, dddt, dh3dt, dadt]\n",
    "lt_range = numpy.array([-5, 22])\n",
    "lt = numpy.linspace(*lt_range, 1000)\n",
    "t_range = 10.0**lt_range\n",
    "t = 10.0**lt\n",
    "\n",
    "solve = scipy.integrate.solve_ivp(dYdt, t_range, Y_0, t_eval=t, method=\"LSODA\", rtol=1e-9, atol=1e-9)\n"
   ]
  },
  {
   "cell_type": "code",
   "execution_count": null,
   "id": "b8c7a70f-e25f-4407-b78d-036253dee38c",
   "metadata": {},
   "outputs": [],
   "source": [
    "t = solve[\"t\"]/(60*60*24*365)\n",
    "p, d, h3, a = solve[\"y\"]\n",
    "print(p.shape)\n",
    "ifig = 0\n",
    "ifig += 1; pyplot.close(ifig); pyplot.figure(ifig)\n",
    "\n",
    "pyplot.loglog(t, 1*p, label=\"$H_1$\")\n",
    "pyplot.plot(t, 2*d, label=\"$H_2$\")\n",
    "pyplot.plot(t, 3*h3, label=\"$He_3$\")\n",
    "pyplot.plot(t, 4*a, label=\"$He_4$\")\n",
    "\n",
    "pyplot.xlabel(\"t [yr]\")\n",
    "pyplot.ylabel(\"mass fraction\")\n",
    "pyplot.title(\"PP-Chain at fixed $T$, $\\\\rho$\")\n",
    "pyplot.ylim(1e-4, 1.5)\n",
    "pyplot.legend()\n",
    "pyplot.show(ifig)"
   ]
  },
  {
   "cell_type": "code",
   "execution_count": null,
   "id": "2a5f8fbc-2118-43c0-98fb-c6101748797d",
   "metadata": {},
   "outputs": [],
   "source": []
  }
 ],
 "metadata": {
  "kernelspec": {
   "display_name": "Python 3 (ipykernel)",
   "language": "python",
   "name": "python3"
  },
  "language_info": {
   "codemirror_mode": {
    "name": "ipython",
    "version": 3
   },
   "file_extension": ".py",
   "mimetype": "text/x-python",
   "name": "python",
   "nbconvert_exporter": "python",
   "pygments_lexer": "ipython3",
   "version": "3.10.4"
  }
 },
 "nbformat": 4,
 "nbformat_minor": 5
}
