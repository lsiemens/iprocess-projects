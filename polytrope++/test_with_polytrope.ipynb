{
 "cells": [
  {
   "cell_type": "markdown",
   "id": "973e8e86-f617-4450-b994-116bcc6ebb2e",
   "metadata": {},
   "source": [
    "# Test modules using Polytropes #\n",
    "Test modules with M, rho, P from polytrope solution and using $P = \\rho \\frac{R}{\\mu}T$ as the equation of state"
   ]
  },
  {
   "cell_type": "code",
   "execution_count": null,
   "id": "2ff098c8-0782-4c45-8115-f8bc5b0fa758",
   "metadata": {},
   "outputs": [],
   "source": [
    "%pylab ipympl\n",
    "ifig = 0\n",
    "\n",
    "import polytrope\n",
    "from opacity import table, opal\n",
    "import nuclear\n",
    "import structure\n",
    "import scipy.interpolate"
   ]
  },
  {
   "cell_type": "markdown",
   "id": "96f2dc99-8619-44b9-8d65-3e59cc2aa119",
   "metadata": {},
   "source": [
    "# Polytrope and Equation of state #"
   ]
  },
  {
   "cell_type": "code",
   "execution_count": null,
   "id": "717cb992-c7d2-46aa-ae42-dd3cf78bfdd1",
   "metadata": {},
   "outputs": [],
   "source": [
    "n = 3\n",
    "rho_c = 150 # [g/cm^3]\n",
    "P_c = 2.5e17 # [dyn/cm^2]\n",
    "X, Z = 0.7, 0.02 # mass fraction\n",
    "data = polytrope.solve_polytrope(rho_c, P_c, n, phi_range=(0, 100), atol=1e-6, rtol=1e-6)\n",
    "m, r, rho, P = polytrope.polytrope_to_cgs(data, rho_c, P_c, n)\n",
    "\n",
    "X, Z = X + 0*r, Z + 0*r\n",
    "\n",
    "R = 8.314e7 # in [erg/(g K)]\n",
    "mu = 4/(5*X + 3 - Z) # unitless\n",
    "\n",
    "T = P*mu/(rho*R) # in [K]\n",
    "T_c = T.max()\n",
    "print(f\"Core tempurature: {T_c} in [K]\")\n",
    "\n",
    "rho = numpy.abs(rho)\n",
    "P = numpy.abs(P)\n",
    "T = numpy.abs(T)"
   ]
  },
  {
   "cell_type": "markdown",
   "id": "6a10cc75-8e75-4790-a7f9-2337c327f591",
   "metadata": {},
   "source": [
    "## opacity ##"
   ]
  },
  {
   "cell_type": "code",
   "execution_count": null,
   "id": "dcf6ecc9-3398-4ee7-a4c6-a1faaf802ca0",
   "metadata": {},
   "outputs": [],
   "source": [
    "opacity = table.opal_opacity(\"opacity/tables/GN93hz\")\n",
    "#opacity = table.analytic_opacity\n",
    "\n",
    "k_R = opacity(rho, T, X, Z) # in (cm^2/g)\n",
    "mfp = 1/(rho*k_R)"
   ]
  },
  {
   "cell_type": "markdown",
   "id": "6933940c-ba2b-4931-b2e9-41d86cebb48d",
   "metadata": {},
   "source": [
    "## nuclear network ##"
   ]
  },
  {
   "cell_type": "code",
   "execution_count": null,
   "id": "c37c52b0-ce20-4f6d-baeb-72f7d3633bd1",
   "metadata": {},
   "outputs": [],
   "source": [
    "reactions = nuclear.network.read_network_file(\"nuclear/networks/pp_branch_I\") + nuclear.network.read_network_file(\"nuclear/networks/cno_branch_I\")\n",
    "ifig += 1\n",
    "nuclear.plot.network_graph(reactions, show=True, ifig=ifig)\n",
    "\n",
    "particles, get_dYdt_epsilon, X_metalicity = nuclear.network.build_network(reactions, \"./nuclear/reactions\")\n",
    "print(f\"particles: {particles}\")\n",
    "\n",
    "X_0 = nuclear.network.initalize_mass_fraction(particles)\n",
    "Y_0 = nuclear.network.mass_frac_to_molar_abu(particles, X_0)\n",
    "\n",
    "epsilon = numpy.zeros(shape=T.shape)\n",
    "for i in range(len(T)):\n",
    "    dYdt, epsilon_fun = get_dYdt_epsilon(rho[i], T[i])\n",
    "    epsilon[i] = epsilon_fun(0, Y_0)\n",
    "\n",
    "L = numpy.zeros(shape=T.shape)\n",
    "L[1:] = numpy.cumsum(epsilon[1:]*numpy.diff(m))\n",
    "\n",
    "power_density = rho*epsilon\n"
   ]
  },
  {
   "cell_type": "code",
   "execution_count": null,
   "id": "8a74baef-e6db-43d6-8c37-30dfb9238e79",
   "metadata": {},
   "outputs": [],
   "source": [
    "\"\"\"ifig += 1; pyplot.close(ifig); pyplot.figure(ifig)\n",
    "pyplot.plot(m/m.max(), r/r.max(), label=\"radius $y = R$\")\n",
    "pyplot.plot(m/m.max(), rho/rho.max(), label=\"density $y = \\\\rho$\")\n",
    "pyplot.plot(m/m.max(), P/P.max(), label=\"pressure $y = P$\")\n",
    "pyplot.plot(m/m.max(), T/T.max(), label=\"tempurature $y = T$\")\n",
    "pyplot.plot(m/m.max(), L/L.max(), label=\"luminosity $y = L$\")\n",
    "pyplot.plot(m/m.max(), k_R/k_R.max(), label=\"mean opacity $y = k_R$\")\n",
    "pyplot.plot(m/m.max(), power_density/power_density.max(), label=\"power density $y = \\\\varepsilon \\\\rho$\")\n",
    "pyplot.xlabel(\"mass coordinate\")\n",
    "pyplot.ylabel(\"parameter $y$ fraction of maximum\")\n",
    "pyplot.legend()\n",
    "pyplot.show(ifig)\n",
    "\n",
    "ifig += 1; pyplot.close(ifig); pyplot.figure(ifig)\n",
    "pyplot.plot(r, m/m.max(), label=\"mass $y = M$\")\n",
    "pyplot.plot(r, rho/rho.max(), label=\"density $y = \\\\rho$\")\n",
    "pyplot.plot(r, P/P.max(), label=\"pressure $y = P$\")\n",
    "pyplot.plot(r, T/T.max(), label=\"tempurature $y = T$\")\n",
    "pyplot.plot(r, L/L.max(), label=\"luminosity $y = L$\")\n",
    "pyplot.plot(r, k_R/k_R.max(), label=\"mean opacity $y = k_R$\")\n",
    "pyplot.plot(r, power_density/power_density.max(), label=\"power density $y = \\\\varepsilon \\\\rho$\")\n",
    "pyplot.xlabel(\"radius [cm]\")\n",
    "pyplot.ylabel(\"parameter $y$ fraction of maximum\")\n",
    "pyplot.legend()\n",
    "pyplot.show(ifig)\"\"\"\n",
    "\n",
    "ifig += 1\n",
    "structure.plot.PrLT(m, [P, r, L, T], ifig=ifig)\n",
    "\n",
    "ifig += 1\n",
    "structure.plot.PrLT(m, [P, r, L, T], massCoord=False, ifig=ifig)"
   ]
  },
  {
   "cell_type": "code",
   "execution_count": null,
   "id": "18e87032-1ca7-41a4-93f5-9169ac87b00a",
   "metadata": {
    "tags": []
   },
   "outputs": [],
   "source": [
    "ifig += 1; pyplot.close(ifig); pyplot.figure(ifig)\n",
    "pyplot.plot(r, rho)\n",
    "pyplot.xlabel(\"radius [cm]\")\n",
    "pyplot.ylabel(\"rho [g/cm^3]\")\n",
    "pyplot.title(\"density\")\n",
    "pyplot.show(ifig)\n",
    "\n",
    "ifig += 1; pyplot.close(ifig); pyplot.figure(ifig)\n",
    "pyplot.plot(r, T)\n",
    "pyplot.xlabel(\"radius [cm]\")\n",
    "pyplot.ylabel(\"temperature [K]\")\n",
    "pyplot.title(\"Temperature\")\n",
    "pyplot.show(ifig)\n",
    "\n",
    "ifig += 1; pyplot.close(ifig); pyplot.figure(ifig)\n",
    "pyplot.semilogy(r, mfp)\n",
    "pyplot.xlabel(\"radius [cm]\")\n",
    "pyplot.ylabel(\"mean free path [cm]\")\n",
    "pyplot.title(\"Opacity: Mean free path of light\")\n",
    "pyplot.show(ifig)\n",
    "\n",
    "ifig += 1; pyplot.close(ifig); pyplot.figure(ifig)\n",
    "pyplot.plot(r, power_density)\n",
    "pyplot.xlabel(\"radius [cm]\")\n",
    "pyplot.ylabel(\"power density [erg/(s cm^3)]\")\n",
    "pyplot.title(\"Nuclear power density\")\n",
    "pyplot.show(ifig)\n",
    "\n",
    "ifig += 1; pyplot.close(ifig); pyplot.figure(ifig)\n",
    "pyplot.plot(r, m)\n",
    "pyplot.xlabel(\"radius [cm]\")\n",
    "pyplot.ylabel(\"mass [g]\")\n",
    "pyplot.title(\"total mass\")\n",
    "pyplot.show(ifig)"
   ]
  },
  {
   "cell_type": "markdown",
   "id": "956f11e2-582c-4ca7-a74d-d0431f01bc52",
   "metadata": {},
   "source": [
    "## Nuclear Network Array ##"
   ]
  },
  {
   "cell_type": "code",
   "execution_count": null,
   "id": "8bcc53c7-31b8-4eef-92fa-87a076967eb5",
   "metadata": {
    "tags": []
   },
   "outputs": [],
   "source": [
    "Y_0 = numpy.array(Y_0)[:, None] + 0*T[None, :]\n",
    "t_range = (0, 1*60*60*24*365.25)\n",
    "\n",
    "Y, status = nuclear.network.solve_radial_network(rho, T, Y_0, get_dYdt_epsilon, t_range)\n",
    "print(\"status:\", status)\n",
    "\n",
    "ifig += 1\n",
    "nuclear.plot.isotope_profile(m, Y, particles, ifig=ifig)\n",
    "\n",
    "ifig += 1\n",
    "nuclear.plot.isotope_profile(r, Y, particles, False, False, ifig=ifig)"
   ]
  },
  {
   "cell_type": "code",
   "execution_count": null,
   "id": "2735280e-680a-474a-bae1-21418d7827e0",
   "metadata": {
    "tags": []
   },
   "outputs": [],
   "source": [
    "Y_prime = copy(Y)"
   ]
  },
  {
   "cell_type": "code",
   "execution_count": null,
   "id": "88c58cd2-090b-49a1-a99f-88dde2bd3754",
   "metadata": {
    "tags": []
   },
   "outputs": [],
   "source": [
    "t_range = (0, 5e5*60*60*24*365.25)\n",
    "\n",
    "Y = copy(Y_prime)\n",
    "\n",
    "ifig += 1\n",
    "plot_args = (particles, True, ifig)\n",
    "Y, status = nuclear.network.solve_radial_network(rho, T, Y_0, get_dYdt_epsilon, t_range, plot_args, atol=1e-9, rtol=1e-9)\n",
    "print(\"status:\", status)"
   ]
  },
  {
   "cell_type": "code",
   "execution_count": null,
   "id": "2a9fc632-8b3f-4db3-86cf-0bf0e8e146f3",
   "metadata": {},
   "outputs": [],
   "source": [
    "ifig += 1\n",
    "nuclear.plot.isotope_profile(m, Y, particles, ifig=ifig)\n",
    "\n",
    "ifig += 1\n",
    "nuclear.plot.isotope_profile(r, Y, particles, False, False, ifig=ifig)\n",
    "\n",
    "Y = numpy.abs(Y)\n",
    "Y_interp = nuclear.network.interpolate_molar_abundance(m, Y)"
   ]
  },
  {
   "cell_type": "code",
   "execution_count": null,
   "id": "ef0ea2fe-b444-4f82-9049-6ac00b494c6a",
   "metadata": {
    "tags": []
   },
   "outputs": [],
   "source": [
    "k_R = opacity(rho, T, *X_metalicity(Y)) # in (cm^2/g)\n",
    "mfp = 1/(rho*k_R)\n",
    "\n",
    "epsilon = numpy.zeros(shape=T.shape)\n",
    "for i in range(len(T)):\n",
    "    dYdt, epsilon_fun = get_dYdt_epsilon(rho[i], T[i])\n",
    "    epsilon[i] = epsilon_fun(0, Y[:, i])\n",
    "\n",
    "L = numpy.zeros(shape=T.shape)\n",
    "L[1:] = numpy.cumsum(epsilon[1:]*numpy.diff(m))\n",
    "\n",
    "power_density = rho*epsilon\n",
    "\n",
    "\"\"\"ifig += 1; pyplot.close(ifig); pyplot.figure(ifig)\n",
    "pyplot.plot(m/m.max(), r/r.max(), label=\"radius $y = R$\")\n",
    "pyplot.plot(m/m.max(), rho/rho.max(), label=\"density $y = \\\\rho$\")\n",
    "pyplot.plot(m/m.max(), P/P.max(), label=\"pressure $y = P$\")\n",
    "pyplot.plot(m/m.max(), T/T.max(), label=\"tempurature $y = T$\")\n",
    "pyplot.plot(m/m.max(), L/L.max(), label=\"luminosity $y = L$\")\n",
    "pyplot.plot(m/m.max(), k_R/k_R.max(), label=\"mean opacity $y = k_R$\")\n",
    "pyplot.plot(m/m.max(), power_density/power_density.max(), label=\"power density $y = \\\\varepsilon \\\\rho$\")\n",
    "pyplot.xlabel(\"mass coordinate\")\n",
    "pyplot.ylabel(\"parameter $y$ fraction of maximum\")\n",
    "pyplot.legend()\n",
    "pyplot.show(ifig)\n",
    "\n",
    "ifig += 1; pyplot.close(ifig); pyplot.figure(ifig)\n",
    "pyplot.plot(r, m/m.max(), label=\"mass $y = M$\")\n",
    "pyplot.plot(r, rho/rho.max(), label=\"density $y = \\\\rho$\")\n",
    "pyplot.plot(r, P/P.max(), label=\"pressure $y = P$\")\n",
    "pyplot.plot(r, T/T.max(), label=\"tempurature $y = T$\")\n",
    "pyplot.plot(r, L/L.max(), label=\"luminosity $y = L$\")\n",
    "pyplot.plot(r, k_R/k_R.max(), label=\"mean opacity $y = k_R$\")\n",
    "pyplot.plot(r, power_density/power_density.max(), label=\"power density $y = \\\\varepsilon \\\\rho$\")\n",
    "pyplot.xlabel(\"radius [cm]\")\n",
    "pyplot.ylabel(\"parameter $y$ fraction of maximum\")\n",
    "pyplot.legend()\n",
    "pyplot.show(ifig)\"\"\"\n",
    "\n",
    "ifig += 1\n",
    "structure.plot.PrLT(m, [P, r, L, T], ifig=ifig)\n",
    "\n",
    "ifig += 1\n",
    "structure.plot.PrLT(m, [P, r, L, T], massCoord=False, ifig=ifig)"
   ]
  },
  {
   "cell_type": "code",
   "execution_count": null,
   "id": "d148321c-7139-4658-84b7-b1d848bdf1b8",
   "metadata": {},
   "outputs": [],
   "source": [
    "ifig += 1; pyplot.close(ifig); pyplot.figure(ifig)\n",
    "pyplot.plot(r, power_density)\n",
    "pyplot.xlabel(\"radius [cm]\")\n",
    "pyplot.ylabel(\"power density [erg/(s cm^3)]\")\n",
    "pyplot.title(\"Nuclear power density\")\n",
    "pyplot.show(ifig)\n",
    "\n",
    "ifig += 1; pyplot.close(ifig); pyplot.figure(ifig)\n",
    "pyplot.semilogy(r, mfp)\n",
    "pyplot.xlabel(\"radius [cm]\")\n",
    "pyplot.ylabel(\"mean free path [cm]\")\n",
    "pyplot.title(\"Opacity: Mean free path of light\")\n",
    "pyplot.show(ifig)"
   ]
  },
  {
   "cell_type": "markdown",
   "id": "1d030acb-8c5d-4a74-9906-8bc427c75717",
   "metadata": {},
   "source": [
    "## Stellar Structure ##"
   ]
  },
  {
   "cell_type": "code",
   "execution_count": null,
   "id": "4dec3764-8732-4dc9-8b81-ddee2ea1645b",
   "metadata": {
    "tags": []
   },
   "outputs": [],
   "source": [
    "sigma_sb = 5.67037442e-5 # in [erg/(s cm^2 K^4)]\n",
    "\n",
    "dPrLTdM = structure.equations.get_dPrLTdM(get_dYdt_epsilon, X_metalicity, opacity, Y_interp)\n",
    "\n",
    "r_R, T_R = 50e9, 5500\n",
    "\n",
    "M, PrLT, status, error = structure.equations.solve_core(dPrLTdM, m[-1], r_R, T_R)\n",
    "print(\"error:\", error)"
   ]
  },
  {
   "cell_type": "code",
   "execution_count": null,
   "id": "ee894fb6-5304-4847-88a5-c396bf257a49",
   "metadata": {
    "tags": []
   },
   "outputs": [],
   "source": [
    "M_tot = m[-1]\n",
    "R_est = polytrope.R_sol*(M_tot/polytrope.M_sol)**0.8\n",
    "L_est = polytrope.L_sol*(M_tot/polytrope.M_sol)**3.5\n",
    "T_est = (L_est/(4*numpy.pi*R_est**2*sigma_sb))**(1/4)\n",
    "\n",
    "print(f\"M: {M_tot:.3g}, R: {R_est:.3g}, L: {L_est:.3g}, T: {T_est:.3g}\")\n",
    "print(f\"M: {M_tot/polytrope.M_sol:.4f}, R: {R_est/polytrope.R_sol:.4f}, L: {L_est/polytrope.L_sol:.4f}, T: {T_est/5500:.4f}\")\n",
    "\n",
    "r_range, T_range, n = (1, R_est*1.5), (1, T_est*1.5), 5\n",
    "min_v = float(\"inf\")\n",
    "min_param = None, None\n",
    "values = numpy.zeros(shape=(n, n))\n",
    "k = 0\n",
    "for i, r_R in enumerate(numpy.linspace(*r_range, n)):\n",
    "    for j, T_R in enumerate(numpy.linspace(*T_range, n)):\n",
    "        k += 1\n",
    "        if k % max(1, n**2//100) == 0:\n",
    "            print(k)\n",
    "        \n",
    "        k_R = 0.2*(1 + 0.7)\n",
    "\n",
    "        P_R = (2/3)*polytrope.G*m[-1]/(r_R**2*k_R)\n",
    "        L_R = 4*numpy.pi*r_R**2*sigma_sb*T_R**4\n",
    "\n",
    "        events = [structure.equations.zr, structure.equations.zL]\n",
    "        PrLT_R = [P_R, r_R, L_R, T_R]\n",
    "        try:\n",
    "            solve = scipy.integrate.solve_ivp(dPrLTdM, (m[-1], m[0]), PrLT_R, events=events, method=\"Radau\")\n",
    "            PrLT = solve[\"y\"]\n",
    "            M = solve[\"t\"]\n",
    "            #print(\", \".join([f\"{v:11.3e}\" for v in structure.equations.core_error(M, PrLT)]), solve.message)\n",
    "            values[i, j] = numpy.sqrt(numpy.sum(numpy.array(structure.equations.core_error(M, PrLT))**2))\n",
    "            if values[i, j] < min_v:\n",
    "                min_v = values[i, j]\n",
    "                min_param = (r_R, T_R)\n",
    "        except:\n",
    "            raise\n",
    "            values[i, j] = float(\"Nan\")\n",
    "\n",
    "ifig += 1; pyplot.close(ifig); pyplot.figure(ifig)\n",
    "pyplot.imshow(values, extent=(*T_range, *r_range), aspect='auto')\n",
    "pyplot.show(ifig)\n",
    "print(min_v, min_param)\n",
    "print(f\"R: {min_param[0]:.3g}, T: {min_param[1]:.3g}\")"
   ]
  },
  {
   "cell_type": "code",
   "execution_count": null,
   "id": "c3cad4b3-5cc0-4240-a3c3-9b1a56160a42",
   "metadata": {
    "tags": []
   },
   "outputs": [],
   "source": [
    "M1 = None\n",
    "M1 = solve[\"t\"]\n",
    "P1, r1, L1, T1 = solve[\"y\"]\n",
    " \n",
    "Y_m = Y_interp(M1)\n",
    "X_m = nuclear.network.molar_abu_to_mass_frac(particles, Y_m)\n",
    "\n",
    "mf_X, mf_Z = X_metalicity(Y_m)\n",
    "mu = 4/(5*mf_X + 3 - mf_Z) # []\n",
    "\n",
    "rho1 = mu*P1/(R*T1)\n",
    "k_R1 = opacity(rho1, T1, mf_X, mf_Z)\n",
    "mpl1 = 1/(rho1*k_R1)\n",
    "\n",
    "P_t = (2/3)*polytrope.G*M1[-1]/(r1[-1]**2*k_R1[-1])\n",
    "T_t = (L1[-1]/(4*numpy.pi*r1[-1]**2*sigma_sb))**(1/4)\n",
    "\n",
    "\"\"\"ifig += 1; pyplot.close(ifig); pyplot.figure(ifig)\n",
    "pyplot.plot(M1/M1.max(), r1/r1.max(), label=\"radius $y = R$\")\n",
    "pyplot.plot(M1/M1.max(), rho1/rho1.max(), marker=\"s\", label=\"density $y = \\\\rho$\")\n",
    "pyplot.plot(M1/M1.max(), P1/P1.max(), label=\"pressure $y = P$\")\n",
    "pyplot.plot(M1/M1.max(), T1/T1.max(), marker=\"*\", label=\"tempurature $y = T$\")\n",
    "pyplot.plot(M1/M1.max(), L1/L1.max(), label=\"luminosity $y = L$\")\n",
    "#pyplot.plot(M1/M1.max(), k_R1/k_R1.max(), label=\"opacity\")\n",
    "#pyplot.plot(M1/M1.max(), mpl1/mpl1.max(), label=\"mpl\")\n",
    "\n",
    "pyplot.hlines(T_t/T1.max(), 0, 1, \"r\", \"--\", label=\"T target\")\n",
    "pyplot.hlines(P_t/P1.max(), 0, 1, \"g\", \":\", label=\"T target\")\n",
    "#pyplot.plot(m/m.max(), k_R/k_R.max(), label=\"mean opacity $y = k_R$\")\n",
    "#pyplot.plot(m/m.max(), power_density/power_density.max(), label=\"power density $y = \\\\varepsilon \\\\rho$\")\n",
    "pyplot.xlabel(\"mass coordinate\")\n",
    "pyplot.ylabel(\"parameter $y$ fraction of maximum\")\n",
    "pyplot.legend()\n",
    "pyplot.show(ifig)\n",
    "\n",
    "ifig += 1; pyplot.close(ifig); pyplot.figure(ifig)\n",
    "pyplot.plot(r1, M1/M1.max(), label=\"mass $y = R$\")\n",
    "pyplot.plot(r1, rho1/rho1.max(), marker=\"s\", label=\"density $y = \\\\rho$\")\n",
    "pyplot.plot(r1, P1/P1.max(), label=\"pressure $y = P$\")\n",
    "pyplot.plot(r1, T1/T1.max(), marker=\"*\", label=\"tempurature $y = T$\")\n",
    "pyplot.plot(r1, L1/L1.max(), label=\"luminosity $y = L$\")\n",
    "#pyplot.plot(r1, k_R1/k_R1.max(), label=\"opacity\")\n",
    "#pyplot.plot(r1, mpl1/mpl1.max(), label=\"mpl\")\n",
    "#pyplot.plot(m/m.max(), k_R/k_R.max(), label=\"mean opacity $y = k_R$\")\n",
    "#pyplot.plot(m/m.max(), power_density/power_density.max(), label=\"power density $y = \\\\varepsilon \\\\rho$\")\n",
    "pyplot.xlabel(\"radius in cm\")\n",
    "pyplot.ylabel(\"parameter $y$ fraction of maximum\")\n",
    "pyplot.legend()\n",
    "pyplot.show(ifig)\"\"\"\n",
    "\n",
    "ifig += 1\n",
    "structure.plot.PrLT(M1, solve[\"y\"], ifig=ifig)\n",
    "\n",
    "ifig += 1\n",
    "structure.plot.PrLT(M1, solve[\"y\"], massCoord=False, ifig=ifig)"
   ]
  },
  {
   "cell_type": "code",
   "execution_count": null,
   "id": "f9f18ce0-845b-48a4-8921-25bee213198b",
   "metadata": {},
   "outputs": [],
   "source": [
    "k_R = opacity(rho1, T1, mf_X, mf_Z) # in (cm^2/g)\n",
    "mfp = 1/(rho1*k_R)\n",
    "\n",
    "ifig += 1; pyplot.close(ifig); pyplot.figure(ifig)\n",
    "pyplot.plot(r1, rho1)\n",
    "pyplot.xlabel(\"radius [cm]\")\n",
    "pyplot.ylabel(\"density [g/cm^3]\")\n",
    "pyplot.title(\"Density\")\n",
    "pyplot.show(ifig)\n",
    "\n",
    "ifig += 1; pyplot.close(ifig); pyplot.figure(ifig)\n",
    "pyplot.plot(r1/polytrope.R_sol, M1/polytrope.M_sol)\n",
    "pyplot.xlabel(\"radius [cm]\")\n",
    "pyplot.ylabel(\"mass [g]\")\n",
    "pyplot.show(ifig)\n",
    "\n",
    "ifig += 1; pyplot.close(ifig); pyplot.figure(ifig)\n",
    "pyplot.plot(r1/polytrope.R_sol, L1/polytrope.L_sol)\n",
    "pyplot.xlabel(\"radius [cm]\")\n",
    "pyplot.ylabel(\"luminosity [W]\")\n",
    "pyplot.show(ifig)\n",
    "\n",
    "ifig += 1; pyplot.close(ifig); pyplot.figure(ifig)\n",
    "pyplot.plot(r1, T1)\n",
    "pyplot.xlabel(\"radius [cm]\")\n",
    "pyplot.ylabel(\"Tempurature [K]\")\n",
    "pyplot.show(ifig)\n",
    "\n",
    "ifig += 1; pyplot.close(ifig); pyplot.figure(ifig)\n",
    "pyplot.plot(r1, numpy.gradient(mfp, r1))\n",
    "pyplot.xlabel(\"radius [cm]\")\n",
    "pyplot.ylabel(\"Mean free path gradient\")\n",
    "pyplot.show(ifig)"
   ]
  },
  {
   "cell_type": "code",
   "execution_count": null,
   "id": "e8630e79-ffaa-4c0d-aa4f-7719279171cc",
   "metadata": {},
   "outputs": [],
   "source": []
  }
 ],
 "metadata": {
  "kernelspec": {
   "display_name": "Python 3 (ipykernel)",
   "language": "python",
   "name": "python3"
  },
  "language_info": {
   "codemirror_mode": {
    "name": "ipython",
    "version": 3
   },
   "file_extension": ".py",
   "mimetype": "text/x-python",
   "name": "python",
   "nbconvert_exporter": "python",
   "pygments_lexer": "ipython3",
   "version": "3.10.4"
  }
 },
 "nbformat": 4,
 "nbformat_minor": 5
}
