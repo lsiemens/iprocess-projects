{
 "cells": [
  {
   "cell_type": "markdown",
   "id": "973e8e86-f617-4450-b994-116bcc6ebb2e",
   "metadata": {},
   "source": [
    "# Test modules using Polytropes #\n",
    "Test modules with M, rho, P from polytrope solution and using $P = \\rho \\frac{R}{\\mu}T$ as the equation of state"
   ]
  },
  {
   "cell_type": "code",
   "execution_count": null,
   "id": "2ff098c8-0782-4c45-8115-f8bc5b0fa758",
   "metadata": {},
   "outputs": [],
   "source": [
    "%pylab ipympl\n",
    "ifig = 0\n",
    "\n",
    "import polytrope\n",
    "import opacity.opal as opal\n",
    "import nuclear"
   ]
  },
  {
   "cell_type": "markdown",
   "id": "96f2dc99-8619-44b9-8d65-3e59cc2aa119",
   "metadata": {},
   "source": [
    "# Polytrope and Equation of state #"
   ]
  },
  {
   "cell_type": "code",
   "execution_count": null,
   "id": "717cb992-c7d2-46aa-ae42-dd3cf78bfdd1",
   "metadata": {},
   "outputs": [],
   "source": [
    "n = 3\n",
    "rho_c = 150 # [g/cm^3]\n",
    "P_c = 1e17 # [dyn/cm^2]\n",
    "X, Z = 0.7, 0.02 # mass fraction\n",
    "data = polytrope.solve_polytrope(rho_c, P_c, n)\n",
    "m, r, rho, P = polytrope.polytrope_to_cgs(data, rho_c, P_c, n)\n",
    "\n",
    "R = 8.314e7 # in [erg/(mol K)]\n",
    "mu = 4/(5*X + 3 - Z) # in [g/mol]\n",
    "\n",
    "T = P*mu/(rho*R) # in [K]\n",
    "T_c = T.max()\n",
    "print(f\"Core tempurature: {T_c} in [K]\")\n",
    "\n",
    "rho = numpy.abs(rho)\n",
    "P = numpy.abs(P)\n",
    "T = numpy.abs(T)"
   ]
  },
  {
   "cell_type": "markdown",
   "id": "6a10cc75-8e75-4790-a7f9-2337c327f591",
   "metadata": {},
   "source": [
    "## opacity ##"
   ]
  },
  {
   "cell_type": "code",
   "execution_count": null,
   "id": "dcf6ecc9-3398-4ee7-a4c6-a1faaf802ca0",
   "metadata": {},
   "outputs": [],
   "source": [
    "opal_data = opal.read_file(\"opacity/tables/GN93hz\")\n",
    "opacity = opal.linear_opacity(opal_data)\n",
    "k_R = opacity(rho, T, X, Z) # in (cm^2/g)\n",
    "mfp = 1/(rho*k_R)"
   ]
  },
  {
   "cell_type": "markdown",
   "id": "6933940c-ba2b-4931-b2e9-41d86cebb48d",
   "metadata": {},
   "source": [
    "## nuclear network ##"
   ]
  },
  {
   "cell_type": "code",
   "execution_count": null,
   "id": "c37c52b0-ce20-4f6d-baeb-72f7d3633bd1",
   "metadata": {},
   "outputs": [],
   "source": [
    "N_A = 6.022e23 # in [#/mol]\n",
    "\n",
    "reactions = nuclear.network.read_network_file(\"nuclear/networks/pp_branch_I\")\n",
    "ifig += 1; pyplot.close(ifig); pyplot.figure(ifig)\n",
    "nuclear.network.draw_network(reactions, show=False)\n",
    "pyplot.show(ifig)\n",
    "\n",
    "particles, get_dydt = nuclear.network.build_network(reactions, \"./nuclear/reactions\")\n",
    "print(f\"particles: {particles}\")\n",
    "\n",
    "Y = 1 - X - Z\n",
    "\n",
    "X_0 = [Z/(len(particles) - 2)]*len(particles)\n",
    "X_0[0], X_0[3] = X, Y\n",
    "X_0[1], X_0[2] = 0*X, 0.1*Y\n",
    "\n",
    "Y_0 = [x/AZ[0] for x, AZ in zip(X_0, particles)]\n",
    "epsilon = numpy.zeros(shape=T.shape)\n",
    "for i in range(len(T)):\n",
    "    dYdt, epsilon_func = get_dydt(rho[i], T[i])\n",
    "    epsilon[i] = epsilon_func(0, Y_0)"
   ]
  },
  {
   "cell_type": "code",
   "execution_count": null,
   "id": "8a74baef-e6db-43d6-8c37-30dfb9238e79",
   "metadata": {},
   "outputs": [],
   "source": [
    "ifig += 1; pyplot.close(ifig); pyplot.figure(ifig)\n",
    "pyplot.plot(m/m.max(), r/r.max(), label=\"radius $y = R$\")\n",
    "pyplot.plot(m/m.max(), rho/rho.max(), label=\"density $y = \\\\rho$\")\n",
    "pyplot.plot(m/m.max(), P/P.max(), label=\"pressure $y = P$\")\n",
    "pyplot.plot(m/m.max(), T/T.max(), label=\"tempurature $y = T$\")\n",
    "pyplot.plot(m/m.max(), k_R/k_R.max(), label=\"mean opacity $y = k_R$\")\n",
    "pyplot.plot(m/m.max(), epsilon/epsilon.max(), label=\"power density $y = \\\\varepsilon$\")\n",
    "pyplot.xlabel(\"mass coordinate\")\n",
    "pyplot.ylabel(\"parameter $y$ fraction of maximum\")\n",
    "pyplot.legend()\n",
    "pyplot.show(ifig)\n",
    "\n",
    "ifig += 1; pyplot.close(ifig); pyplot.figure(ifig)\n",
    "pyplot.plot(r, m/m.max(), label=\"mass $y = M$\")\n",
    "pyplot.plot(r, rho/rho.max(), label=\"density $y = \\\\rho$\")\n",
    "pyplot.plot(r, P/P.max(), label=\"pressure $y = P$\")\n",
    "pyplot.plot(r, T/T.max(), label=\"tempurature $y = T$\")\n",
    "pyplot.plot(r, k_R/k_R.max(), label=\"mean opacity $y = k_R$\")\n",
    "pyplot.plot(r, epsilon/epsilon.max(), label=\"power density $y = \\\\varepsilon$\")\n",
    "pyplot.xlabel(\"radius [cm]\")\n",
    "pyplot.ylabel(\"parameter $y$ fraction of maximum\")\n",
    "pyplot.legend()\n",
    "pyplot.show(ifig)"
   ]
  },
  {
   "cell_type": "code",
   "execution_count": null,
   "id": "18e87032-1ca7-41a4-93f5-9169ac87b00a",
   "metadata": {
    "tags": []
   },
   "outputs": [],
   "source": [
    "ifig += 1; pyplot.close(ifig); pyplot.figure(ifig)\n",
    "pyplot.semilogy(r, mfp)\n",
    "pyplot.xlabel(\"radius [cm]\")\n",
    "pyplot.ylabel(\"mean free path [cm]\")\n",
    "pyplot.title(\"Opacity: Mean free path of light\")\n",
    "pyplot.show(ifig)\n",
    "\n",
    "ifig += 1; pyplot.close(ifig); pyplot.figure(ifig)\n",
    "pyplot.plot(r, epsilon*1.602e-6*0.1)\n",
    "pyplot.xlabel(\"radius [cm]\")\n",
    "pyplot.ylabel(\"power density [W/m^3]\")\n",
    "pyplot.title(\"Nuclear power density\")\n",
    "pyplot.show(ifig)"
   ]
  },
  {
   "cell_type": "code",
   "execution_count": null,
   "id": "473f7dda-2a50-4dbc-bfbd-44cd888da68f",
   "metadata": {},
   "outputs": [],
   "source": []
  }
 ],
 "metadata": {
  "kernelspec": {
   "display_name": "Python 3 (ipykernel)",
   "language": "python",
   "name": "python3"
  },
  "language_info": {
   "codemirror_mode": {
    "name": "ipython",
    "version": 3
   },
   "file_extension": ".py",
   "mimetype": "text/x-python",
   "name": "python",
   "nbconvert_exporter": "python",
   "pygments_lexer": "ipython3",
   "version": "3.10.4"
  }
 },
 "nbformat": 4,
 "nbformat_minor": 5
}
