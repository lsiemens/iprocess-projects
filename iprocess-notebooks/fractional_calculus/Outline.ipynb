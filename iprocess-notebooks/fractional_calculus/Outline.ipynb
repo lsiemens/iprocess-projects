{
 "cells": [
  {
   "cell_type": "markdown",
   "id": "76d1c905-681b-456c-82e5-b70463157808",
   "metadata": {},
   "source": [
    "# Fractional Calculus\n",
    "\n",
    "- Invertible calculus: note how it behaves under a ristriction, and generalized functions\n",
    "- Linear operator with finite dimension and nonzero determinant then $A^\\alpha = e^{\\alpha \\ln(A)}$ exists for $\\alpha \\in \\mathbb{C}$\n",
    "- Observe set of equations $e^x$, $e^x(x + a)$, ... where $\\frac{d}{dx}F(x) = F(x + 1)$ and note that these functions form a basis for $P_n(x)e^x$ which can aproximate any well defined function in some interval\n",
    "- $f(x, a) \\in \\mathcal{O}(\\mathbb{C}^2)$, where $\\frac{\\partial}{\\partial_x}f(x, a) = \\Delta_a f(x, a)$"
   ]
  },
  {
   "cell_type": "markdown",
   "id": "d6e40be1-3447-4ba4-aeba-cbc3c0a1f0b9",
   "metadata": {},
   "source": [
    "## More complete outline\n",
    "\n",
    "1. Introduction to fractional calculus, road map, and goal $\\partial_x F(x, a) = F(x, a - 1)$, $\\frac{d^\\alpha}{dx^\\alpha} F(x, a) = F(x, a - \\alpha)$\n",
    "\n",
    "2. Invertible calculus, solved by either restriction the calss of valid functions $\\lim{x \\to -\\infty} \\frac{d^n}{dx^n}f(x) = 0$ or by generalizing functions to a larger class relying heavely on $f(x)$ being analytic in $x$.\n",
    "\n",
    "3. Recalling that invertible finite dimensional linear operators have a well defined fractional exponents $A^\\alpha = e^{\\alpha \\ln(A)}$, the derivative is not finite dimensional nor invertable, but restricting to a finite dimensional subset investigate the operator using the type of restriction from secton 2 ensuring that it is also invertable. Look at theis for large matrix aproximations of the derivative.\n",
    "\n",
    "4. Note that there is a simple basis of functions $e^x, e^x(x + a), ...$ that behave very simply under differention. any linear combination of these functions can approximatie any $f(x, a=0)$ and  $\\frac{d}{dx}f(x, a) = f(x, a - 1)$. Note the connection to eigen vectors and generalized eigen vectors and that is is essentialy infinite dimensional limit of the finite dimensioal matrix representation of the derivative under exponentiation.\n",
    "\n",
    "5. Fractional calculus as interpolation and Ramanujan's master theorem. Proveing that fractional calculus under these restrictions is unique under these restricitons. And note that connection to the refrence point where the functions vanish. And the importance that the functions $f(x, a)$ is analytic in the variable $a$.\n",
    "\n",
    "6. Note the action of the RMT version of fractional calculus on the summ of functions with differnt anchor points, the analytic continuation like behavour of the operators, and that the natural fourier extensions to fractional calculus is the generalized version of this set of fractional calculus, but opens the posibility of more general operators.\n",
    "\n",
    "7. -- expand more --  looking for the unifying consistent property from 6. to focus on, take analycity of $f(x, a=0)$ from 1. the analycity of $f(x = 0,a)$ from 5. the shifting property from 4. the generalized and restricted functions from 1., given this consider $f(x, a - 1) = \\partial_x f(x, a)$. this is an analytic condittion that might have some solutions and nesissaraly $f(x, a - \\alpha)$ behaves like a fractional derivative.\n",
    "\n",
    "8. show that it is unique in both directions under reasonable conditions, some explicit solutions aswell as a method for generating new exampls, which leads to a new way to extend to fractional calculus $f(x, a) = \\sum_{k=0} \\frac{x^k}{k!}f(a - k)$ a natural extention of fourier series satisfyes the interpolation from 6. satisfies the equations from 7."
   ]
  },
  {
   "cell_type": "markdown",
   "id": "759123a6-6667-4641-af5e-8c37070bdbfb",
   "metadata": {},
   "source": [
    "## Element outline\n",
    "### 1. Introduction\n",
    "Introduce fractional derivative give examples of the fractional derivatives of some functions, including for the same function. List basic properties of the fractional derivatives like their domain, composition rules for said derivatives. mention desireable properties link to \"what is a fractional derivative\" and desiderata for the FC operators in \"Trens, Directions for Further Resharch, and Some Open Problems of Fractional Calculus\". project to understand the properties of FC and if it matches the Desiderita and if not why? Propose the solution, given the constraint $\\partial_x F(x, a) = F(x, a - 1)$, then $\\frac{d^\\alpha}{dx^\\alpha}F(x, a) \\equiv F(x, a - \\alpha)$ is a NICE fractional derivative operator.\n",
    "\n",
    "### 2. Invertible calculus\n",
    "Discus the simpler problem of makeing calculus invertible as a modle for how to approche fractional calcuslus. Identify the problem of invertiblity as a loss of information due to differentiation. Then discuss ways to address the loss of information, either by using restricted functions where the information is trivial to reconstruct anyway, or by generalizing functions. Show solutions using both methods and that within theire respectiv set of functions that the basic operatoirs of calculus can be fully reproduced. Applying this to fractional calculus, to the extent that fractional calculus reproduces the ordinary derivitive then it must exibit the same uninvertibility as the derivative, so a simular proces applied to FC may eleviate some problems. Those two ways being limiting the set of allowed functions to some simplified subset or generalizing functions.\n",
    "\n",
    "### 3. Finite dimensional linear operatiors\n",
    "If a matrix has $\\det(A)=0$ the its inverses exists also the matrix logorithm $\\log(A)$ exist, although it is not unique. "
   ]
  },
  {
   "cell_type": "markdown",
   "id": "fb3e2707-9dab-4d38-bfb2-9823b92c77cd",
   "metadata": {},
   "source": []
  },
  {
   "cell_type": "code",
   "execution_count": null,
   "id": "d45d93d9-f65a-4e46-bea6-51c6f8e8dbb0",
   "metadata": {},
   "outputs": [],
   "source": []
  }
 ],
 "metadata": {
  "kernelspec": {
   "display_name": "Haskell",
   "language": "haskell",
   "name": "haskell"
  },
  "language_info": {
   "codemirror_mode": "ihaskell",
   "file_extension": ".hs",
   "mimetype": "text/x-haskell",
   "name": "haskell",
   "pygments_lexer": "Haskell",
   "version": "8.10.4"
  }
 },
 "nbformat": 4,
 "nbformat_minor": 5
}
